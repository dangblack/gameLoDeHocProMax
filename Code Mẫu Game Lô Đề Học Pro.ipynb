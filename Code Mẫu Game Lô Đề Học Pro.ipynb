{
 "cells": [
  {
   "cell_type": "code",
   "execution_count": 2,
   "id": "3e4c2df9-64cb-4ef1-9941-40513d8d1292",
   "metadata": {
    "id": "3e4c2df9-64cb-4ef1-9941-40513d8d1292"
   },
   "outputs": [],
   "source": [
    "import random\n",
    "from my_lib import *\n",
    "from IPython.display import clear_output"
   ]
  },
  {
   "cell_type": "code",
   "execution_count": 4,
   "id": "5762173c-1827-4817-aec1-32cbf526961c",
   "metadata": {
    "id": "5762173c-1827-4817-aec1-32cbf526961c"
   },
   "outputs": [],
   "source": [
    "# Khởi tạo biến toàn cục\n",
    "dang_nhap_status = False\n",
    "user = \"\""
   ]
  },
  {
   "cell_type": "code",
   "execution_count": 5,
   "id": "f1aee5f0-dfcf-4baa-bac3-333212c4a145",
   "metadata": {},
   "outputs": [],
   "source": [
    "def quay_so():\n",
    "    danh_sach_giai = {}\n",
    "\n",
    "    ten_giai = [\"GIẢI NHẤT\", \"GIẢI NHÌ\", \"GIẢI BA\", \"GIẢI TƯ\", \"GIẢI NĂM\", \"GIẢI SÁU\", \"GIẢI BẢY\"]\n",
    "\n",
    "    for giai in ten_giai:\n",
    "        so = \"\"\n",
    "        for i in range(5):\n",
    "            so += str(random.randint(0, 9))  # Tạo một chữ số ngẫu nhiên từ 0 đến 9 và thêm vào số\n",
    "        danh_sach_giai[giai] = so\n",
    "\n",
    "    return danh_sach_giai\n",
    "\n"
   ]
  },
  {
   "cell_type": "code",
   "execution_count": 6,
   "id": "ff437216-d2a8-4ad7-9bdf-304371be5dd3",
   "metadata": {
    "id": "ff437216-d2a8-4ad7-9bdf-304371be5dd3"
   },
   "outputs": [],
   "source": [
    "def in_danh_sach_giai(danh_sach_giai):\n",
    "    print('-' * 20)\n",
    "    print(\"---DANH SÁCH GIẢI---\")\n",
    "    for giai, so in danh_sach_giai.items():\n",
    "        print(f\"{giai}: {so}\")\n",
    "    print('-' * 20)"
   ]
  },
  {
   "cell_type": "code",
   "execution_count": 7,
   "id": "5d452d9a-2846-4ea0-a30c-4e9341f8785b",
   "metadata": {
    "id": "5d452d9a-2846-4ea0-a30c-4e9341f8785b"
   },
   "outputs": [],
   "source": [
    "def nhap_so_lo():\n",
    "    while True:\n",
    "        so_lo = input(\"Nhập số lô mà bạn muốn cược (10-99): \")\n",
    "        if so_lo.isdigit() and 10 <= int(so_lo) <= 99:\n",
    "            return int(so_lo)\n",
    "        else:\n",
    "            print(\"Nhập sai định dạng, vui lòng nhập lại!\")"
   ]
  },
  {
   "cell_type": "code",
   "execution_count": 8,
   "id": "442c3004-1d3a-451c-9604-fe3c5ddec93d",
   "metadata": {},
   "outputs": [],
   "source": [
    "def nhap_so_lo():\n",
    "    while True:\n",
    "        so_lo_input = input(\"Nhập các số lô bạn muốn chơi, cách nhau bằng dấu phẩy: \")\n",
    "        danh_sach_so_lo = so_lo_input.split(\",\")\n",
    "\n",
    "        so_lo_hop_le = True\n",
    "\n",
    "        for so_lo in danh_sach_so_lo:\n",
    "            if len(so_lo) != 2 or not so_lo.isdigit():\n",
    "                print(\"Số lô nhập không hợp lệ. Vui lòng nhập lại.\")\n",
    "                so_lo_hop_le = False\n",
    "                break\n",
    "\n",
    "        if so_lo_hop_le:\n",
    "            return danh_sach_so_lo\n"
   ]
  },
  {
   "cell_type": "code",
   "execution_count": 9,
   "id": "c1ba69f5-094d-455e-b5a0-ca82f3a49848",
   "metadata": {
    "id": "c1ba69f5-094d-455e-b5a0-ca82f3a49848"
   },
   "outputs": [],
   "source": [
    "def nhap_tien_cuoc():\n",
    "    while True:\n",
    "        tien_cuoc = input(\"Nhập tiền cược mà bạn muốn cược (tiền cược < tổng tiền bạn có): \")\n",
    "        if tien_cuoc.isdigit() and int(tien_cuoc) < tong_tien:\n",
    "            return int(tien_cuoc)\n",
    "        else:\n",
    "            print(\"Nhập sai định dạng hoặc quá tổng tiền. Nhập lại\")"
   ]
  },
  {
   "cell_type": "code",
   "execution_count": 27,
   "id": "6c023b6c",
   "metadata": {},
   "outputs": [],
   "source": [
    "cap_nhat_tien_choi_lo(\"dang\",123123123)"
   ]
  },
  {
   "cell_type": "code",
   "execution_count": 63,
   "id": "b1db83ba-1eab-4123-bc14-205367027e88",
   "metadata": {},
   "outputs": [
    {
     "name": "stdout",
     "output_type": "stream",
     "text": [
      "--------------------\n",
      "---DANH SÁCH GIẢI---\n",
      "GIẢI NHẤT: 72991\n",
      "GIẢI NHÌ: 05104\n",
      "GIẢI BA: 63390\n",
      "GIẢI TƯ: 40997\n",
      "GIẢI NĂM: 00827\n",
      "GIẢI SÁU: 52646\n",
      "GIẢI BẢY: 39707\n",
      "--------------------\n",
      "Các số lô bạn chơi là: ['12', '21', '23', '22', '44']\n",
      "Bạn đã thua lô!\n",
      "Số tiền bạn thua là 50000\n",
      "Tổng tiền bạn còn là 10910000\n",
      "Thông tin về lần chơi lô đã được lưu.\n"
     ]
    }
   ],
   "source": [
    "from datetime import datetime\n",
    "\n",
    "def cap_nhat_tien_choi_lo(username, tong_tien):\n",
    "    try:\n",
    "        du_lieu_tai_khoan = doc_file(PATH_DATA_TAI_KHOAN, \"r\")\n",
    "        if du_lieu_tai_khoan:\n",
    "            for i, tai_khoan in enumerate(du_lieu_tai_khoan):\n",
    "                if tai_khoan[0] == username:\n",
    "                    du_lieu_tai_khoan[i][2] = str(tong_tien)  # Cập nhật số tiền\n",
    "                    ghi_file([','.join(tai_khoan) + '\\n' for tai_khoan in du_lieu_tai_khoan], PATH_DATA_TAI_KHOAN, \"w\")\n",
    "                    return\n",
    "    except Exception as e:\n",
    "        print(f\"Có lỗi xảy ra khi cập nhật thông tin tài khoản: {e}\")\n",
    "\n",
    "\n",
    "def luu_thong_tin_choi_lo(username, danh_sach_so_lo, tien_cuoc, danh_sach_giai, so_lo_trung, tien_thang, tien_thua):\n",
    "    try:\n",
    "        thoi_gian_choi = datetime.now().strftime(\"%Y-%m-%d %H:%M:%S\")\n",
    "        thong_tin = f\"{thoi_gian_choi},{username},{','.join(danh_sach_so_lo)},{tien_cuoc},\" \\\n",
    "                    f\"{','.join(danh_sach_giai.values())},{','.join(so_lo_trung)},{tien_thang},{tien_thua}\\n\"\n",
    "        \n",
    "        ghi_file(thong_tin, PATH_DATA_CHOI_LO, \"a\")\n",
    "        print(\"Thông tin về lần chơi lô đã được lưu.\")\n",
    "        \n",
    "        # Cập nhật số tiền thắng/thua vào tài khoản\n",
    "\n",
    "    except Exception as e:\n",
    "        print(f\"Có lỗi xảy ra khi lưu thông tin: {e}\")\n",
    "\n",
    "def game_quay_so(username, danh_sach_so_lo, tien_cuoc):\n",
    "    tong_tien = int(lay_thong_tin_tai_khoan(username)[2])\n",
    "\n",
    "    danh_sach_giai = quay_so()\n",
    "    \n",
    "    in_danh_sach_giai(danh_sach_giai)\n",
    "    dem_so_lo = 0\n",
    "    so_lo_trung = []  # Danh sách lưu trữ số lô trúng\n",
    "\n",
    "    print(\"Các số lô bạn chơi là:\", danh_sach_so_lo)\n",
    "    for giai, so_giai in danh_sach_giai.items():\n",
    "        for so_lo in danh_sach_so_lo:\n",
    "            if so_lo == so_giai[-2:]:\n",
    "                dem_so_lo += 1\n",
    "                so_lo_trung.append(so_lo)\n",
    "\n",
    "    tien_thang = 0  # Khởi tạo tien_thang\n",
    "    tien_thua = 0   # Khởi tạo tien_thua\n",
    "\n",
    "    if dem_so_lo > 0:\n",
    "        tien_thang = tien_cuoc * dem_so_lo * 70\n",
    "        tien_thua = tien_cuoc * (len(danh_sach_so_lo) - len(so_lo_trung))\n",
    "\n",
    "        tong_tien += tien_thang - tien_thua\n",
    "\n",
    "        print(f\"Bạn đã trúng {dem_so_lo} nháy!\")\n",
    "        print(\"Các số lô trúng:\", \", \".join(so_lo_trung))\n",
    "        print(f\"Số tiền bạn trúng là {tien_thang}\")\n",
    "        print(f\"Số tiền bạn thua là {tien_thua}\")\n",
    "        print(f\"Tổng tiền bạn có là {tong_tien}\")\n",
    "    else:\n",
    "        tien_thua = tien_cuoc * len(danh_sach_so_lo)\n",
    "        tong_tien -= tien_thua\n",
    "\n",
    "        print(\"Bạn đã thua lô!\")\n",
    "        print(f\"Số tiền bạn thua là {tien_thua}\")\n",
    "        print(f\"Tổng tiền bạn còn là {tong_tien}\")\n",
    "\n",
    "    # Lưu thông tin về lần chơi lô vào file\n",
    "    luu_thong_tin_choi_lo(username, danh_sach_so_lo, tien_cuoc, danh_sach_giai, so_lo_trung, tien_thang, tien_thua)\n",
    "    cap_nhat_tien_choi_lo(username, tong_tien)\n",
    "\n",
    "# Sử dụng hàm để chơi lô\n",
    "username = \"dang\"  # Thay thế bằng username thực tế của user\n",
    "danh_sach_so_lo = [\"12\", \"21\", \"23\", \"22\", \"44\"]  # Danh sách số lô cược\n",
    "tien_cuoc = 10000  # Số tiền cược\n",
    "game_quay_so(username, danh_sach_so_lo, tien_cuoc)\n"
   ]
  },
  {
   "cell_type": "code",
   "execution_count": 24,
   "id": "3791627e-99eb-45c9-a504-75c07857a60c",
   "metadata": {
    "executionInfo": {
     "elapsed": 2,
     "status": "ok",
     "timestamp": 1711077167583,
     "user": {
      "displayName": "Đăng Nguyễn Hải",
      "userId": "10439053523970398060"
     },
     "user_tz": -420
    },
    "id": "3791627e-99eb-45c9-a504-75c07857a60c"
   },
   "outputs": [
    {
     "name": "stdout",
     "output_type": "stream",
     "text": [
      "Đã nạp 50000 vào tài khoản dang.\n"
     ]
    }
   ],
   "source": [
    "def nap_tien(username, so_tien_nap):\n",
    "    # Đọc dữ liệu từ file tài khoản\n",
    "    lst_taikhoan = doc_file(PATH_DATA_TAI_KHOAN, \"r\")\n",
    "    if lst_taikhoan is None:\n",
    "        print(\"Không thể nạp tiền. Có lỗi xảy ra khi đọc file tài khoản.\")\n",
    "        return\n",
    "\n",
    "    # Tìm tài khoản trong danh sách\n",
    "    for tai_khoan_info in lst_taikhoan:\n",
    "        if tai_khoan_info[0] == username:\n",
    "            # Cộng số tiền nạp vào số tiền của tài khoản\n",
    "            tai_khoan_info[2] = str(int(tai_khoan_info[2]) + so_tien_nap)\n",
    "            # Ghi lại dữ liệu mới vào file\n",
    "            ghi_file([','.join(tai_khoan) + '\\n' for tai_khoan in lst_taikhoan], PATH_DATA_TAI_KHOAN, \"w\")\n",
    "            print(f\"Đã nạp {so_tien_nap} vào tài khoản {username}.\")\n",
    "            return\n",
    "\n",
    "    print(\"Không tìm thấy tài khoản.\")\n",
    "    return\n",
    "\n",
    "# Sử dụng hàm để nạp tiền\n",
    "username = \"dang\"  # Thay thế bằng username thực tế của user\n",
    "so_tien_nap = 50000  # Số tiền cần nạp\n",
    "nap_tien(username, so_tien_nap)\n"
   ]
  },
  {
   "cell_type": "code",
   "execution_count": 13,
   "id": "5c37de14",
   "metadata": {},
   "outputs": [],
   "source": [
    "def lay_thong_tin_tai_khoan(username):\n",
    "    try:\n",
    "        du_lieu_tai_khoan = doc_file(PATH_DATA_TAI_KHOAN, \"r\")\n",
    "        if du_lieu_tai_khoan:\n",
    "            for tai_khoan in du_lieu_tai_khoan:\n",
    "                if tai_khoan[0] == username:\n",
    "                    return tai_khoan\n",
    "        else:\n",
    "            return None\n",
    "    except Exception as e:\n",
    "        print(f\"Có lỗi xảy ra: {e}\")\n",
    "        return None"
   ]
  },
  {
   "cell_type": "code",
   "execution_count": 11,
   "id": "d4f0db09-5a11-4f50-a0ea-60e4fc85aa68",
   "metadata": {},
   "outputs": [],
   "source": [
    "def kiem_tra_admin(username):\n",
    "    if username == \"admin\":\n",
    "        return 1\n",
    "    else:\n",
    "        return 0 \n"
   ]
  },
  {
   "cell_type": "code",
   "execution_count": 12,
   "id": "2e10f190-9c47-46c0-bfd4-b098c072697d",
   "metadata": {},
   "outputs": [],
   "source": [
    "def kiem_tra_tai_khoan(username, password):\n",
    "    global dang_nhap_status, user\n",
    "    # Đọc dữ liệu từ file tài khoản\n",
    "    lst_taikhoan = doc_file(PATH_DATA_TAI_KHOAN, \"r\")\n",
    "    if lst_taikhoan is None:\n",
    "        print(\"Không thể đăng nhập. Có lỗi xảy ra khi đọc file tài khoản.\")\n",
    "        return\n",
    "\n",
    "    for tai_khoan in lst_taikhoan:\n",
    "        if tai_khoan[0] == username and tai_khoan[1] == password:\n",
    "            dang_nhap_status = True\n",
    "            user = username\n",
    "            return kiem_tra_admin(username)\n"
   ]
  },
  {
   "cell_type": "code",
   "execution_count": 13,
   "id": "65d09035-3909-4fe0-bd4e-6cecf5c17cd9",
   "metadata": {},
   "outputs": [],
   "source": [
    "def kiem_tra_ton_tai_tai_khoan(username):\n",
    "    # Đọc dữ liệu từ file tài khoản\n",
    "    lst_taikhoan = doc_file(PATH_DATA_TAI_KHOAN, \"r\")\n",
    "    if lst_taikhoan is None:\n",
    "        return False\n",
    "\n",
    "    # Kiểm tra xem tài khoản đã tồn tại chưa\n",
    "    for tai_khoan in lst_taikhoan:\n",
    "        if tai_khoan[0] == username:\n",
    "            return True\n",
    "    \n",
    "    return False\n"
   ]
  },
  {
   "cell_type": "code",
   "execution_count": 14,
   "id": "c866cc4f",
   "metadata": {},
   "outputs": [
    {
     "data": {
      "text/plain": [
       "[['admin', 'admin', '1000000'], ['dang', '654321', '160000']]"
      ]
     },
     "execution_count": 14,
     "metadata": {},
     "output_type": "execute_result"
    }
   ],
   "source": [
    "import my_lib\n",
    "lst_taikhoan = doc_file(PATH_DATA_TAI_KHOAN, \"r\")\n",
    "lst_taikhoan"
   ]
  },
  {
   "cell_type": "code",
   "execution_count": 15,
   "id": "18593c59-3b4a-4821-8ac4-56a1f10d4570",
   "metadata": {},
   "outputs": [
    {
     "name": "stdout",
     "output_type": "stream",
     "text": [
      "Không tìm thấy tài khoản hoặc mật khẩu cũ không đúng.\n"
     ]
    }
   ],
   "source": [
    "def doi_mat_khau(username, password_cu, password_moi):\n",
    "    # Đọc dữ liệu từ file tài khoản\n",
    "    lst_taikhoan = doc_file(PATH_DATA_TAI_KHOAN, \"r\")\n",
    "    if lst_taikhoan is None:\n",
    "        print(\"Không thể đổi mật khẩu. Có lỗi xảy ra khi đọc file tài khoản.\")\n",
    "        return\n",
    "\n",
    "    # Tìm tài khoản trong danh sách và kiểm tra mật khẩu cũ\n",
    "    for tai_khoan_info in lst_taikhoan:\n",
    "        if tai_khoan_info[0] == username and tai_khoan_info[1] == password_cu:\n",
    "            # Cập nhật mật khẩu mới\n",
    "            tai_khoan_info[1] = password_moi\n",
    "            # Ghi lại dữ liệu mới vào file\n",
    "            ghi_file([','.join(tai_khoan) + '\\n' for tai_khoan in lst_taikhoan], PATH_DATA_TAI_KHOAN, \"w\")\n",
    "            print(\"Đổi mật khẩu thành công.\")\n",
    "            return\n",
    "\n",
    "    print(\"Không tìm thấy tài khoản hoặc mật khẩu cũ không đúng.\")\n",
    "    return\n",
    "\n",
    "# Sử dụng hàm để đổi mật khẩu\n",
    "username = \"dang\"  # Thay thế bằng username thực tế của user\n",
    "password_cu = \"123456\"  # Mật khẩu cũ\n",
    "password_moi = \"654321\"  # Mật khẩu mới\n",
    "doi_mat_khau(username, password_cu, password_moi)\n"
   ]
  },
  {
   "cell_type": "code",
   "execution_count": 16,
   "id": "94a92f7e-3796-406f-b0f9-6434edbdf8c0",
   "metadata": {},
   "outputs": [],
   "source": [
    "def dang_nhap():\n",
    "    global dang_nhap_status\n",
    "    print(\"---GAME LÔ ĐỀ HỌC---\")\n",
    "    print(\"Vui lòng đăng nhập để chơi game\")\n",
    "    \n",
    "    while True:\n",
    "        username = input(\"Nhập username: \")\n",
    "        password = input(\"Nhập password: \")\n",
    "\n",
    "        if kiem_tra_tai_khoan(username, password) in (0,1):\n",
    "            dang_nhap_status = True\n",
    "            break\n",
    "        else:\n",
    "            print(\"Sai tên người dùng hoặc mật khẩu, vui lòng thử lại.\")\n",
    "    clear_output()\n",
    "    menu()"
   ]
  },
  {
   "cell_type": "code",
   "execution_count": 17,
   "id": "1f8cfba8-1313-4e3d-b860-7abe07ba8928",
   "metadata": {
    "executionInfo": {
     "elapsed": 465,
     "status": "ok",
     "timestamp": 1711076655632,
     "user": {
      "displayName": "Đăng Nguyễn Hải",
      "userId": "10439053523970398060"
     },
     "user_tz": -420
    },
    "id": "1f8cfba8-1313-4e3d-b860-7abe07ba8928"
   },
   "outputs": [],
   "source": [
    "def menu():\n",
    "    print(\"GAME LÔ ĐỀ HỌC\")\n",
    "    print(\"1. Chơi lô\")\n",
    "    print(\"2. Đổi mật khẩu\")\n",
    "    print(\"3. Thống kê\")\n",
    "    print(\"4. Đăng xuất\")"
   ]
  },
  {
   "cell_type": "code",
   "execution_count": 18,
   "id": "12d8f8e3-390f-480a-979a-6096c5afe967",
   "metadata": {},
   "outputs": [],
   "source": [
    "def menu_admin():\n",
    "    print(\"ADMIN GAME LÔ ĐỀ HỌC\")\n",
    "    print(\"1. Tạo tài khoản\")\n",
    "    print(\"2. Nạp tiền tài khoản\")\n",
    "    print(\"3. Thống kê\")\n",
    "    print(\"4. Đăng xuất\")\n",
    "    "
   ]
  },
  {
   "cell_type": "code",
   "execution_count": 19,
   "id": "71f3a30a-4dce-422f-a198-6db0559fd948",
   "metadata": {},
   "outputs": [],
   "source": [
    "def main():\n",
    "    global dang_nhap_status\n",
    "    if dang_nhap_status == False:\n",
    "        dang_nhap()\n",
    "    else:\n",
    "        if user == \"admin\":\n",
    "            menu_admin()\n",
    "        else:\n",
    "            menu()\n",
    "    if user == \"admin\":\n",
    "        while True:\n",
    "            lua_chon = int(input(\"Bạn chọn: \"))\n",
    "            match lua_chon:\n",
    "                case 1:\n",
    "                    print(1)\n",
    "                    break\n",
    "                case 2:\n",
    "                    print(2)\n",
    "                    break\n",
    "                case 3:\n",
    "                    print(3)\n",
    "                    break\n",
    "                case 4:\n",
    "                    dang_nhap_status = False\n",
    "                    print(\"Chào bạn, hẹn gặp lại!\")\n",
    "                    break\n",
    "                case _:\n",
    "                    print(\"Nhập sai lựa chọn, vui lòng nhập lại !\")\n",
    "    else:\n",
    "        while True:\n",
    "            lua_chon = int(input(\"Bạn chọn: \"))\n",
    "            match lua_chon:\n",
    "                case 1:\n",
    "                    clear_output(wait=True)\n",
    "                    while True:\n",
    "                        tien_cuoc = nhap_tien_cuoc()\n",
    "                        so_lo = nhap_so_lo()\n",
    "                        game_quay_so(so_lo, tien_cuoc)\n",
    "                        choi_tiep = int(input(\"Bạn có muốn chơi tiếp không? (0: không, 1: có)\"))\n",
    "                        if choi_tiep == 0:\n",
    "                            break\n",
    "                    clear_output()\n",
    "                    main()\n",
    "                    break\n",
    "                case 2:\n",
    "                    clear_output()\n",
    "                    nap_tien()\n",
    "                    clear_output(wait=True)\n",
    "                    main()\n",
    "                    break\n",
    "                case 3:\n",
    "                    print(3)\n",
    "                    break    \n",
    "                case 4:\n",
    "                    dang_nhap_status = False\n",
    "                    print(\"Chào bạn, hẹn gặp lại!\")\n",
    "                    break\n",
    "                case _:\n",
    "                    print(\"Nhập sai lựa chọn, vui lòng nhập lại !\")"
   ]
  },
  {
   "cell_type": "code",
   "execution_count": 54,
   "id": "230961ee-1cdb-4afc-9df4-51cd69e918cf",
   "metadata": {
    "colab": {
     "base_uri": "https://localhost:8080/"
    },
    "executionInfo": {
     "elapsed": 8895,
     "status": "ok",
     "timestamp": 1711077242017,
     "user": {
      "displayName": "Đăng Nguyễn Hải",
      "userId": "10439053523970398060"
     },
     "user_tz": -420
    },
    "id": "230961ee-1cdb-4afc-9df4-51cd69e918cf",
    "outputId": "f94ebb97-1055-4580-8891-5f68059bc61a"
   },
   "outputs": [
    {
     "name": "stdout",
     "output_type": "stream",
     "text": [
      "GAME LÔ ĐỀ HỌC\n",
      "1. Chơi lô\n",
      "2. Đổi mật khẩu\n",
      "3. Thống kê\n",
      "4. Đăng xuất\n"
     ]
    },
    {
     "name": "stdout",
     "output_type": "stream",
     "text": [
      "Bạn chọn:  4\n"
     ]
    },
    {
     "name": "stdout",
     "output_type": "stream",
     "text": [
      "Chào bạn, hẹn gặp lại!\n"
     ]
    }
   ],
   "source": [
    "main()"
   ]
  },
  {
   "cell_type": "code",
   "execution_count": 20,
   "id": "24eee768-e8f6-47ed-b4bb-5f5836708ba1",
   "metadata": {},
   "outputs": [],
   "source": [
    "def tao_tai_khoan(username, password, tong_tien):\n",
    "    if check_tai_khoan(username):\n",
    "        user_info = f\"{username},{password},{tong_tien}\\n\"\n",
    "        ghi_file([user_info], PATH_DATA_TAI_KHOAN, \"a\")\n",
    "        print(f\"Tạo tài khoản {username} thành công\")\n",
    "    else:\n",
    "        print(\"Trùng username\")\n"
   ]
  },
  {
   "cell_type": "code",
   "execution_count": 21,
   "id": "797343aa-771e-4d89-9807-8bde6c4229f9",
   "metadata": {},
   "outputs": [
    {
     "name": "stdout",
     "output_type": "stream",
     "text": [
      "User không tồn tại\n"
     ]
    }
   ],
   "source": [
    "def xoa_tai_khoan(username):\n",
    "    if kiem_tra_admin(username):\n",
    "        print(\"Không được xóa tài khoản admin\")\n",
    "    else:\n",
    "        lst_taikhoan = doc_file(PATH_DATA_TAI_KHOAN, \"r\")\n",
    "        for tai_khoan_info in lst_taikhoan:\n",
    "            if tai_khoan_info[0] == username:\n",
    "                lst_taikhoan.remove(tai_khoan_info)\n",
    "                ghi_file([','.join(tai_khoan) + '\\n' for tai_khoan in lst_taikhoan], PATH_DATA_TAI_KHOAN, \"w\")\n",
    "                return \"Xóa tài khoản thành công\"\n",
    "\n",
    "        return \"User không tồn tại\"\n",
    "\n",
    "# Sử dụng hàm để xóa tài khoản\n",
    "username_can_xoa = \"user1234\"\n",
    "print(xoa_tai_khoan(username_can_xoa))\n"
   ]
  },
  {
   "cell_type": "code",
   "execution_count": 22,
   "id": "c2bc5f90-a703-4c17-a513-bd7a1f7610d6",
   "metadata": {},
   "outputs": [
    {
     "data": {
      "text/plain": [
       "[['admin', 'admin', '1000000'], ['dang', '654321', '160000']]"
      ]
     },
     "execution_count": 22,
     "metadata": {},
     "output_type": "execute_result"
    }
   ],
   "source": [
    "lst_taikhoan = doc_file(PATH_DATA_TAI_KHOAN, \"r\")\n",
    "\n",
    "lst_taikhoan"
   ]
  },
  {
   "cell_type": "code",
   "execution_count": 4,
   "id": "7f804b92",
   "metadata": {},
   "outputs": [
    {
     "name": "stdout",
     "output_type": "stream",
     "text": [
      "Thông kê cho người dùng dang\n",
      "Số lần chơi lô: 4\n",
      "Tổng tiền chơi lô thắng: 280746\n",
      "Tổng tiền chơi lô thua: 149684\n",
      "Tỉ lệ chơi lô thắng/thua: 0.33\n"
     ]
    }
   ],
   "source": [
    "def thong_ke_user(username):\n",
    "    try:\n",
    "        du_lieu_choi_lo = doc_file(PATH_DATA_CHOI_LO, \"r\")\n",
    "        so_lan_choi = 0\n",
    "        tong_tien_thang = 0\n",
    "        tong_tien_thua = 0\n",
    "        so_lan_thang = 0\n",
    "        so_lan_thua = 0\n",
    "\n",
    "        for choi_lo in du_lieu_choi_lo:\n",
    "            if choi_lo[1] == username:\n",
    "                so_lan_choi += 1\n",
    "                tong_tien_thang += int(choi_lo[11])\n",
    "                tong_tien_thua += int(choi_lo[12])\n",
    "                if int(choi_lo[-2]) >  0:\n",
    "                    so_lan_thang += 1\n",
    "                else:\n",
    "                    so_lan_thua += 1\n",
    "        ti_le_thang = round(so_lan_thang / so_lan_thua, 2) if so_lan_thua > 0 else 0\n",
    "\n",
    "        # In kết quả\n",
    "        print(\"Thông kê cho người dùng\", username)\n",
    "        print(\"Số lần chơi lô:\", so_lan_choi)\n",
    "        print(\"Tổng tiền chơi lô thắng:\", tong_tien_thang)\n",
    "        print(\"Tổng tiền chơi lô thua:\", tong_tien_thua)\n",
    "        print(\"Tỉ lệ chơi lô thắng/thua:\", ti_le_thang)\n",
    "\n",
    "    except Exception as e:\n",
    "        print(f\"Có lỗi xảy ra khi thực hiện thống kê: {e}\")\n",
    "thong_ke_user(\"dang\")"
   ]
  },
  {
   "cell_type": "code",
   "execution_count": null,
   "id": "969c6d2e",
   "metadata": {},
   "outputs": [],
   "source": [
    "def thong_ke_admin():\n",
    "    try:\n",
    "        # Đọc dữ liệu từ file choilo.txt\n",
    "        du_lieu_choi_lo = doc_file(PATH_DATA_CHOI_LO, \"r\")\n",
    "        so_luong_tai_khoan = len(doc_file(PATH_DATA_TAI_KHOAN, \"r\"))\n",
    "        tong_so_lan_choi_lo = len(du_lieu_choi_lo)\n",
    "        tong_tien_thang = sum(int(choi_lo[11]) for choi_lo in du_lieu_choi_lo)\n",
    "        tong_tien_thua = sum(int(choi_lo[12]) for choi_lo in du_lieu_choi_lo)\n",
    "        so_lan_thang = sum(1 for choi_lo in du_lieu_choi_lo if int(choi_lo[11]) > 0)\n",
    "        so_lan_thua = tong_so_lan_choi_lo - so_lan_thang\n",
    "\n",
    "        # Tính tỷ lệ thắng/thua\n",
    "        ti_le_thang_thua = round(so_lan_thang / so_lan_thua, 2) if so_lan_thua > 0 else 0\n",
    "\n",
    "        # In kết quả thống kê\n",
    "        print(\"Thống kê tổng hợp:\")\n",
    "        print(\"Số lượng tài khoản:\", so_luong_tai_khoan)\n",
    "        print(\"Tổng số lượt chơi lô:\", tong_so_lan_choi_lo)\n",
    "        print(\"Tổng tiền chơi lô thắng:\", tong_tien_thang)\n",
    "        print(\"Tổng tiền chơi lô thua:\", tong_tien_thua)\n",
    "        print(\"Tỉ lệ thắng/thua:\", ti_le_thang_thua)\n",
    "\n",
    "    except Exception as e:\n",
    "        print(f\"Có lỗi xảy ra khi thực hiện thống kê tổng hợp: {e}\")\n"
   ]
  }
 ],
 "metadata": {
  "colab": {
   "provenance": []
  },
  "kernelspec": {
   "display_name": "Python 3 (ipykernel)",
   "language": "python",
   "name": "python3"
  },
  "language_info": {
   "codemirror_mode": {
    "name": "ipython",
    "version": 3
   },
   "file_extension": ".py",
   "mimetype": "text/x-python",
   "name": "python",
   "nbconvert_exporter": "python",
   "pygments_lexer": "ipython3",
   "version": "3.10.13"
  }
 },
 "nbformat": 4,
 "nbformat_minor": 5
}
