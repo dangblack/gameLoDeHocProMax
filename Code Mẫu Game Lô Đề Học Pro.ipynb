{
 "cells": [
  {
   "cell_type": "code",
   "execution_count": 40,
   "id": "3e4c2df9-64cb-4ef1-9941-40513d8d1292",
   "metadata": {
    "id": "3e4c2df9-64cb-4ef1-9941-40513d8d1292"
   },
   "outputs": [],
   "source": [
    "import random\n",
    "from my_lib import *\n",
    "from IPython.display import clear_output\n",
    "from datetime import datetime\n"
   ]
  },
  {
   "cell_type": "code",
   "execution_count": 41,
   "id": "5762173c-1827-4817-aec1-32cbf526961c",
   "metadata": {
    "id": "5762173c-1827-4817-aec1-32cbf526961c"
   },
   "outputs": [],
   "source": [
    "# Khởi tạo biến toàn cục\n",
    "dang_nhap_status = False\n",
    "user = \"\""
   ]
  },
  {
   "cell_type": "code",
   "execution_count": 42,
   "id": "f1aee5f0-dfcf-4baa-bac3-333212c4a145",
   "metadata": {},
   "outputs": [],
   "source": [
    "def quay_so():\n",
    "    danh_sach_giai = {}\n",
    "\n",
    "    ten_giai = [\"GIẢI NHẤT\", \"GIẢI NHÌ\", \"GIẢI BA\", \"GIẢI TƯ\", \"GIẢI NĂM\", \"GIẢI SÁU\", \"GIẢI BẢY\"]\n",
    "\n",
    "    for giai in ten_giai:\n",
    "        so = \"\"\n",
    "        for i in range(5):\n",
    "            so += str(random.randint(0, 9))  # Tạo một chữ số ngẫu nhiên từ 0 đến 9 và thêm vào số\n",
    "        danh_sach_giai[giai] = so\n",
    "\n",
    "    return danh_sach_giai\n",
    "\n"
   ]
  },
  {
   "cell_type": "code",
   "execution_count": 43,
   "id": "ff437216-d2a8-4ad7-9bdf-304371be5dd3",
   "metadata": {
    "id": "ff437216-d2a8-4ad7-9bdf-304371be5dd3"
   },
   "outputs": [],
   "source": [
    "def in_danh_sach_giai(danh_sach_giai):\n",
    "    print('-' * 20)\n",
    "    print(\"---DANH SÁCH GIẢI---\")\n",
    "    for giai, so in danh_sach_giai.items():\n",
    "        print(f\"{giai}: {so}\")\n",
    "    print('-' * 20)"
   ]
  },
  {
   "cell_type": "code",
   "execution_count": 44,
   "id": "442c3004-1d3a-451c-9604-fe3c5ddec93d",
   "metadata": {},
   "outputs": [],
   "source": [
    "def nhap_so_lo():\n",
    "    while True:\n",
    "        so_lo_input = input(\"Nhập các số lô bạn muốn chơi, cách nhau bằng dấu phẩy: \")\n",
    "        danh_sach_so_lo = so_lo_input.split(\",\")\n",
    "\n",
    "        so_lo_hop_le = True\n",
    "\n",
    "        for so_lo in danh_sach_so_lo:\n",
    "            if len(so_lo) != 2 or not so_lo.isdigit():\n",
    "                print(\"Số lô nhập không hợp lệ. Vui lòng nhập lại.\")\n",
    "                so_lo_hop_le = False\n",
    "                break\n",
    "\n",
    "        if so_lo_hop_le:\n",
    "            return danh_sach_so_lo\n"
   ]
  },
  {
   "cell_type": "code",
   "execution_count": 45,
   "id": "c1ba69f5-094d-455e-b5a0-ca82f3a49848",
   "metadata": {
    "id": "c1ba69f5-094d-455e-b5a0-ca82f3a49848"
   },
   "outputs": [],
   "source": [
    "def nhap_tien_cuoc(username):\n",
    "    tong_tien = int(lay_thong_tin_tai_khoan(username)[2])\n",
    "    while True:\n",
    "        tien_cuoc = input(\"Nhập tiền cược mà bạn muốn cược (tiền cược < tổng tiền bạn có): \")\n",
    "        if tien_cuoc.isdigit() and int(tien_cuoc) < tong_tien:\n",
    "            return int(tien_cuoc)\n",
    "        else:\n",
    "            print(\"Nhập sai định dạng hoặc quá tổng tiền. Nhập lại\")"
   ]
  },
  {
   "cell_type": "code",
   "execution_count": 46,
   "id": "b1db83ba-1eab-4123-bc14-205367027e88",
   "metadata": {},
   "outputs": [],
   "source": [
    "\n",
    "def cap_nhat_tien_choi_lo(username, tong_tien):\n",
    "    try:\n",
    "        du_lieu_tai_khoan = doc_file(PATH_DATA_TAI_KHOAN, \"r\")\n",
    "        if du_lieu_tai_khoan:\n",
    "            for i, tai_khoan in enumerate(du_lieu_tai_khoan):\n",
    "                if tai_khoan[0] == username:\n",
    "                    du_lieu_tai_khoan[i][2] = str(tong_tien)  # Cập nhật số tiền\n",
    "                    ghi_file([','.join(tai_khoan) + '\\n' for tai_khoan in du_lieu_tai_khoan], PATH_DATA_TAI_KHOAN, \"w\")\n",
    "                    return\n",
    "    except Exception as e:\n",
    "        print(f\"Có lỗi xảy ra khi cập nhật thông tin tài khoản: {e}\")\n",
    "\n",
    "\n",
    "def luu_thong_tin_choi_lo(username, danh_sach_so_lo, tien_cuoc, danh_sach_giai,  tien_thang, tien_thua):\n",
    "    try:\n",
    "        thoi_gian_choi = datetime.now().strftime(\"%Y-%m-%d %H:%M:%S\")\n",
    "        thong_tin = f\"{thoi_gian_choi},{username},{','.join(danh_sach_so_lo)},{tien_cuoc},\" \\\n",
    "                    f\"{','.join(danh_sach_giai.values())},{tien_thang},{tien_thua}\\n\"\n",
    "        \n",
    "        ghi_file(thong_tin, PATH_DATA_CHOI_LO, \"a\")\n",
    "        print(\"Thông tin về lần chơi lô đã được lưu.\")\n",
    "        \n",
    "        # Cập nhật số tiền thắng/thua vào tài khoản\n",
    "\n",
    "    except Exception as e:\n",
    "        print(f\"Có lỗi xảy ra khi lưu thông tin: {e}\")\n",
    "\n",
    "def game_quay_so(username, danh_sach_so_lo, tien_cuoc):\n",
    "    tong_tien = int(lay_thong_tin_tai_khoan(username)[2])\n",
    "\n",
    "    danh_sach_giai = quay_so()\n",
    "    \n",
    "    in_danh_sach_giai(danh_sach_giai)\n",
    "    dem_so_lo_trung = 0\n",
    "    so_lo_trung = []  # Danh sách lưu trữ số lô trúng\n",
    "\n",
    "    print(\"Các số lô bạn chơi là:\", danh_sach_so_lo)\n",
    "    for giai, so_giai in danh_sach_giai.items():\n",
    "        for so_lo in danh_sach_so_lo:\n",
    "            if so_lo == so_giai[-2:]:\n",
    "                dem_so_lo_trung += 1\n",
    "                so_lo_trung.append(so_lo)\n",
    "    tien_thang = 0  # Khởi tạo tien_thang\n",
    "    tien_thua = 0   # Khởi tạo tien_thua\n",
    "\n",
    "    if dem_so_lo_trung > 0:\n",
    "        tien_thang = tien_cuoc * dem_so_lo_trung * 70\n",
    "        tien_thua = tien_cuoc * (len(danh_sach_so_lo) - dem_so_lo_trung)\n",
    "\n",
    "        tong_tien += tien_thang - tien_thua\n",
    "\n",
    "        print(f\"Bạn đã trúng {dem_so_lo_trung} nháy!\")\n",
    "        print(\"Các số lô trúng:\", \", \".join(so_lo_trung))\n",
    "        print(f\"Số tiền bạn trúng là {tien_thang}\")\n",
    "        print(f\"Số tiền bạn thua là {tien_thua}\")\n",
    "        print(f\"Tổng tiền bạn có là {tong_tien}\")\n",
    "    else:\n",
    "        tien_thua = tien_cuoc * len(danh_sach_so_lo)\n",
    "        tong_tien -= tien_thua\n",
    "\n",
    "        print(\"Bạn đã thua lô!\")\n",
    "        print(f\"Số tiền bạn thua là {tien_thua}\")\n",
    "        print(f\"Tổng tiền bạn còn là {tong_tien}\")\n",
    "\n",
    "    # Lưu thông tin về lần chơi lô vào file\n",
    "    luu_thong_tin_choi_lo(username, danh_sach_so_lo, tien_cuoc, danh_sach_giai, tien_thang, tien_thua)\n",
    "    cap_nhat_tien_choi_lo(username, tong_tien)\n",
    "\n"
   ]
  },
  {
   "cell_type": "code",
   "execution_count": 47,
   "id": "3791627e-99eb-45c9-a504-75c07857a60c",
   "metadata": {
    "executionInfo": {
     "elapsed": 2,
     "status": "ok",
     "timestamp": 1711077167583,
     "user": {
      "displayName": "Đăng Nguyễn Hải",
      "userId": "10439053523970398060"
     },
     "user_tz": -420
    },
    "id": "3791627e-99eb-45c9-a504-75c07857a60c"
   },
   "outputs": [],
   "source": []
  },
  {
   "cell_type": "code",
   "execution_count": null,
   "id": "5c37de14",
   "metadata": {},
   "outputs": [],
   "source": []
  },
  {
   "cell_type": "code",
   "execution_count": null,
   "id": "d4f0db09-5a11-4f50-a0ea-60e4fc85aa68",
   "metadata": {},
   "outputs": [],
   "source": []
  },
  {
   "cell_type": "code",
   "execution_count": null,
   "id": "2e10f190-9c47-46c0-bfd4-b098c072697d",
   "metadata": {},
   "outputs": [],
   "source": []
  },
  {
   "cell_type": "code",
   "execution_count": null,
   "id": "65d09035-3909-4fe0-bd4e-6cecf5c17cd9",
   "metadata": {},
   "outputs": [],
   "source": []
  },
  {
   "cell_type": "code",
   "execution_count": null,
   "id": "18593c59-3b4a-4821-8ac4-56a1f10d4570",
   "metadata": {},
   "outputs": [],
   "source": []
  },
  {
   "cell_type": "code",
   "execution_count": 48,
   "id": "1f8cfba8-1313-4e3d-b860-7abe07ba8928",
   "metadata": {
    "executionInfo": {
     "elapsed": 465,
     "status": "ok",
     "timestamp": 1711076655632,
     "user": {
      "displayName": "Đăng Nguyễn Hải",
      "userId": "10439053523970398060"
     },
     "user_tz": -420
    },
    "id": "1f8cfba8-1313-4e3d-b860-7abe07ba8928"
   },
   "outputs": [],
   "source": []
  },
  {
   "cell_type": "code",
   "execution_count": 49,
   "id": "12d8f8e3-390f-480a-979a-6096c5afe967",
   "metadata": {},
   "outputs": [],
   "source": []
  },
  {
   "cell_type": "code",
   "execution_count": null,
   "id": "94a92f7e-3796-406f-b0f9-6434edbdf8c0",
   "metadata": {},
   "outputs": [],
   "source": []
  },
  {
   "cell_type": "code",
   "execution_count": 50,
   "id": "71f3a30a-4dce-422f-a198-6db0559fd948",
   "metadata": {},
   "outputs": [],
   "source": [
    "def main():\n",
    "    global dang_nhap_status, user\n",
    "    if dang_nhap_status == False:\n",
    "        dang_nhap()\n",
    "    if user == \"admin\":\n",
    "        menu_admin()\n",
    "    else:\n",
    "        menu()    \n",
    "    if user == \"admin\":\n",
    "        while True:\n",
    "            lua_chon = int(input(\"Bạn chọn: \"))\n",
    "            match lua_chon:\n",
    "                case 1:\n",
    "                    clear_output(wait=True)\n",
    "                    while True:\n",
    "                        username = input(\"Nhập username cần tạo: \")\n",
    "                        if kiem_tra_ton_tai_tai_khoan(username) == True:\n",
    "                            print(\"Tài khoản user đã tồn tại\")\n",
    "                        elif username == \"admin\":\n",
    "                            print(\"Không được tạo tài khoản admin\")\n",
    "                        else:\n",
    "                            password = input(\"Nhập password cần tạo: \")\n",
    "                            tong_tien = input(\"Nhập số tiền: \")\n",
    "                            tao_tai_khoan(username, password, tong_tien)\n",
    "                        choice = int(input(\"Bạn có muốn tạo thêm không? (0: không, 1: có)\"))\n",
    "                        if choice == 0:\n",
    "                            break\n",
    "                    clear_output()\n",
    "                    main()\n",
    "                    break\n",
    "                case 2:\n",
    "                    clear_output(wait=True)\n",
    "                    while True:\n",
    "                        username = input(\"Nhập username cần xóa: \")\n",
    "                        if kiem_tra_ton_tai_tai_khoan(username) == False:\n",
    "                            print(\"Tài khoản user không tồn tại\")\n",
    "                        elif username == \"admin\":\n",
    "                            print(\"Không được xóa tài khoản admin\")\n",
    "                        else:\n",
    "                            xoa_tai_khoan(username)\n",
    "                        choice = int(input(\"Bạn có muốn xóa thêm không? (0: không, 1: có)\"))\n",
    "                        if choice == 0:\n",
    "                            break\n",
    "                    clear_output()\n",
    "                    main()\n",
    "                    break\n",
    "                case 3:\n",
    "                    clear_output(wait=True)\n",
    "                    while True:\n",
    "                        username = input(\"Nhập username cần nạp tiền: \")\n",
    "                        if kiem_tra_ton_tai_tai_khoan(username) == False:\n",
    "                            print(\"Tài khoản user không tồn tại\")\n",
    "                        else:\n",
    "                            so_tien_nap = int(input(\"Nhập số tiền cần nạp: \"))\n",
    "                            nap_tien(username, so_tien_nap)\n",
    "                        choice = int(input(\"Bạn có muốn nạp thêm không? (0: không, 1: có)\"))\n",
    "                        if choice == 0:\n",
    "                            break\n",
    "                    clear_output()\n",
    "                    main()\n",
    "                    break\n",
    "                case 4:\n",
    "                    clear_output()\n",
    "                    while True:\n",
    "                        thong_ke_admin()\n",
    "                        choice = input(\"Nhấn Enter để quay lại menu: \")\n",
    "                        if choice == \"\":\n",
    "                            break\n",
    "                    clear_output()\n",
    "                    main()\n",
    "                    break\n",
    "                case 5:\n",
    "                    dang_nhap_status = False\n",
    "                    print(\"Chào bạn, hẹn gặp lại!\")\n",
    "                    break\n",
    "                case _:\n",
    "                    print(\"Nhập sai lựa chọn, vui lòng nhập lại !\")\n",
    "    else:\n",
    "        while True:\n",
    "            lua_chon = int(input(\"Bạn chọn: \"))\n",
    "            match lua_chon:\n",
    "                case 1:\n",
    "                    clear_output(wait=True)\n",
    "                    while True:\n",
    "                        tien_cuoc = nhap_tien_cuoc(user)\n",
    "                        danh_sach_so_lo = nhap_so_lo()\n",
    "                        game_quay_so(user, danh_sach_so_lo, tien_cuoc)\n",
    "                        choi_tiep = int(input(\"Bạn có muốn chơi tiếp không? (0: không, 1: có)\"))\n",
    "                        if choi_tiep == 0:\n",
    "                            break\n",
    "                    clear_output()\n",
    "                    main()\n",
    "                    break\n",
    "                case 2:\n",
    "                    clear_output(wait=True)\n",
    "                    while True:\n",
    "                        password_cu = input(\"Nhập password cũ của bạn: \")\n",
    "                        if kiem_tra_tai_khoan(user,password_cu) == \"\":\n",
    "                            print(\"Sai password !\")\n",
    "                            break\n",
    "                        else:\n",
    "                            password_moi = input(\"Nhập password mới của bạn: \")\n",
    "                            doi_mat_khau(user, password_cu, password_moi)\n",
    "                        choice = int(input(\"Bạn có muốn đổi mật khẩu khác không? (0: không, 1: có)\"))\n",
    "                        if choice == 0:\n",
    "                            break\n",
    "                    clear_output()\n",
    "                    main()\n",
    "                    break\n",
    "                case 3:\n",
    "                    clear_output()\n",
    "                    while True:\n",
    "                        thong_ke_user(user)\n",
    "                        choice = input(\"Nhấn Enter để quay lại menu: \")\n",
    "                        if choice == \"\":\n",
    "                            break\n",
    "                    clear_output()\n",
    "                    main()\n",
    "                    break\n",
    "                   \n",
    "                case 4:\n",
    "                    dang_nhap_status = False\n",
    "                    print(\"Chào bạn, hẹn gặp lại!\")\n",
    "                    break\n",
    "                case _:\n",
    "                    print(\"Nhập sai lựa chọn, vui lòng nhập lại !\")\n"
   ]
  },
  {
   "cell_type": "code",
   "execution_count": 51,
   "id": "516a2091-edf1-4ca2-89cb-60d1d40bdbda",
   "metadata": {
    "colab": {
     "base_uri": "https://localhost:8080/"
    },
    "executionInfo": {
     "elapsed": 8895,
     "status": "ok",
     "timestamp": 1711077242017,
     "user": {
      "displayName": "Đăng Nguyễn Hải",
      "userId": "10439053523970398060"
     },
     "user_tz": -420
    },
    "id": "230961ee-1cdb-4afc-9df4-51cd69e918cf",
    "outputId": "f94ebb97-1055-4580-8891-5f68059bc61a"
   },
   "outputs": [
    {
     "name": "stdout",
     "output_type": "stream",
     "text": [
      "GAME LÔ ĐỀ HỌC\n",
      "1. Chơi lô\n",
      "2. Đổi mật khẩu\n",
      "3. Thống kê\n",
      "4. Đăng xuất\n",
      "Chào bạn, hẹn gặp lại!\n"
     ]
    }
   ],
   "source": [
    "main()"
   ]
  }
 ],
 "metadata": {
  "colab": {
   "provenance": []
  },
  "kernelspec": {
   "display_name": "Python 3 (ipykernel)",
   "language": "python",
   "name": "python3"
  },
  "language_info": {
   "codemirror_mode": {
    "name": "ipython",
    "version": 3
   },
   "file_extension": ".py",
   "mimetype": "text/x-python",
   "name": "python",
   "nbconvert_exporter": "python",
   "pygments_lexer": "ipython3",
   "version": "3.10.14"
  }
 },
 "nbformat": 4,
 "nbformat_minor": 5
}
