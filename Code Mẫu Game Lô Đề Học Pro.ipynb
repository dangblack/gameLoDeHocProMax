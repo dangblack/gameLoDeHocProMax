{
 "cells": [
  {
   "cell_type": "code",
   "execution_count": 1,
   "id": "3e4c2df9-64cb-4ef1-9941-40513d8d1292",
   "metadata": {
    "id": "3e4c2df9-64cb-4ef1-9941-40513d8d1292"
   },
   "outputs": [],
   "source": [
    "import random\n",
    "\n",
    "from IPython.display import clear_output"
   ]
  },
  {
   "cell_type": "code",
   "execution_count": 2,
   "id": "5762173c-1827-4817-aec1-32cbf526961c",
   "metadata": {
    "id": "5762173c-1827-4817-aec1-32cbf526961c"
   },
   "outputs": [],
   "source": [
    "# Khởi tạo biến toàn cục\n",
    "tong_tien = 1000000\n",
    "dang_nhap_status = False\n",
    "user = \"\"\n"
   ]
  },
  {
   "cell_type": "code",
   "execution_count": 3,
   "id": "f1aee5f0-dfcf-4baa-bac3-333212c4a145",
   "metadata": {},
   "outputs": [],
   "source": [
    "def quay_so():\n",
    "    danh_sach_giai = {}\n",
    "\n",
    "    ten_giai = [\"GIẢI NHẤT\", \"GIẢI NHÌ\", \"GIẢI BA\", \"GIẢI TƯ\", \"GIẢI NĂM\", \"GIẢI SÁU\", \"GIẢI BẢY\"]\n",
    "\n",
    "    for giai in ten_giai:\n",
    "        so = \"\"\n",
    "        for i in range(5):\n",
    "            so += str(random.randint(0, 9))  # Tạo một chữ số ngẫu nhiên từ 0 đến 9 và thêm vào số\n",
    "        danh_sach_giai[giai] = so\n",
    "\n",
    "    return danh_sach_giai\n",
    "\n"
   ]
  },
  {
   "cell_type": "code",
   "execution_count": 4,
   "id": "ff437216-d2a8-4ad7-9bdf-304371be5dd3",
   "metadata": {
    "id": "ff437216-d2a8-4ad7-9bdf-304371be5dd3"
   },
   "outputs": [],
   "source": [
    "def in_danh_sach_giai(danh_sach_giai):\n",
    "    print('-' * 20)\n",
    "    print(\"---DANH SÁCH GIẢI---\")\n",
    "    for giai, so in danh_sach_giai.items():\n",
    "        print(f\"{giai}: {so}\")\n",
    "    print('-' * 20)"
   ]
  },
  {
   "cell_type": "code",
   "execution_count": 5,
   "id": "5d452d9a-2846-4ea0-a30c-4e9341f8785b",
   "metadata": {
    "id": "5d452d9a-2846-4ea0-a30c-4e9341f8785b"
   },
   "outputs": [],
   "source": [
    "def nhap_so_lo():\n",
    "    while True:\n",
    "        so_lo = input(\"Nhập số lô mà bạn muốn cược (10-99): \")\n",
    "        if so_lo.isdigit() and 10 <= int(so_lo) <= 99:\n",
    "            return int(so_lo)\n",
    "        else:\n",
    "            print(\"Nhập sai định dạng, vui lòng nhập lại!\")"
   ]
  },
  {
   "cell_type": "code",
   "execution_count": 6,
   "id": "442c3004-1d3a-451c-9604-fe3c5ddec93d",
   "metadata": {},
   "outputs": [],
   "source": [
    "def nhap_so_lo():\n",
    "    while True:\n",
    "        so_lo_input = input(\"Nhập các số lô bạn muốn chơi, cách nhau bằng dấu phẩy: \")\n",
    "        danh_sach_so_lo = so_lo_input.split(\",\")\n",
    "\n",
    "        so_lo_hop_le = True\n",
    "\n",
    "        for so_lo in danh_sach_so_lo:\n",
    "            if len(so_lo) != 2 or not so_lo.isdigit():\n",
    "                print(\"Số lô nhập không hợp lệ. Vui lòng nhập lại.\")\n",
    "                so_lo_hop_le = False\n",
    "                break\n",
    "\n",
    "        if so_lo_hop_le:\n",
    "            return danh_sach_so_lo\n"
   ]
  },
  {
   "cell_type": "code",
   "execution_count": 7,
   "id": "c1ba69f5-094d-455e-b5a0-ca82f3a49848",
   "metadata": {
    "id": "c1ba69f5-094d-455e-b5a0-ca82f3a49848"
   },
   "outputs": [],
   "source": [
    "def nhap_tien_cuoc():\n",
    "    while True:\n",
    "        tien_cuoc = input(\"Nhập tiền cược mà bạn muốn cược (tiền cược < tổng tiền bạn có): \")\n",
    "        if tien_cuoc.isdigit() and int(tien_cuoc) < tong_tien:\n",
    "            return int(tien_cuoc)\n",
    "        else:\n",
    "            print(\"Nhập sai định dạng hoặc quá tổng tiền. Nhập lại\")"
   ]
  },
  {
   "cell_type": "code",
   "execution_count": 8,
   "id": "b1db83ba-1eab-4123-bc14-205367027e88",
   "metadata": {},
   "outputs": [],
   "source": [
    "def game_quay_so(danh_sach_so_lo, tien_cuoc):\n",
    "    global tong_tien\n",
    "\n",
    "    danh_sach_giai = quay_so()\n",
    "    \n",
    "    in_danh_sach_giai(danh_sach_giai)\n",
    "    dem_so_lo = 0\n",
    "    so_lo_trung = []  # Danh sách lưu trữ số lô trúng\n",
    "\n",
    "    print(\"Các số lô bạn chơi là:\", danh_sach_so_lo)\n",
    "    for giai, so_giai in danh_sach_giai.items():\n",
    "        for so_lo in danh_sach_so_lo:\n",
    "            if so_lo == so_giai[-2:]:\n",
    "                dem_so_lo += 1\n",
    "                so_lo_trung.append(so_lo)\n",
    "\n",
    "    if dem_so_lo > 0:\n",
    "        tien_thang = tien_cuoc * dem_so_lo * 70\n",
    "        tien_thua = tien_cuoc * (len(danh_sach_so_lo) - len(so_lo_trung))\n",
    "\n",
    "        tong_tien += tien_thang - tien_thua\n",
    "\n",
    "        print(f\"Bạn đã trúng {dem_so_lo} nháy!\")\n",
    "        print(\"Các số lô trúng:\", \", \".join(so_lo_trung))\n",
    "        print(f\"Số tiền bạn trúng là {tien_thang}\")\n",
    "        print(f\"Số tiền bạn thua là {tien_thua}\")\n",
    "        print(f\"Tổng tiền bạn có là {tong_tien}\")\n",
    "    else:\n",
    "        tien_thua = tien_cuoc * len(danh_sach_so_lo)\n",
    "        tong_tien -= tien_thua\n",
    "\n",
    "        print(\"Bạn đã thua lô!\")\n",
    "        print(f\"Số tiền bạn thua là {tien_thua}\")\n",
    "        print(f\"Tổng tiền bạn còn là {tong_tien}\")\n",
    "\n"
   ]
  },
  {
   "cell_type": "code",
   "execution_count": 9,
   "id": "3791627e-99eb-45c9-a504-75c07857a60c",
   "metadata": {
    "executionInfo": {
     "elapsed": 2,
     "status": "ok",
     "timestamp": 1711077167583,
     "user": {
      "displayName": "Đăng Nguyễn Hải",
      "userId": "10439053523970398060"
     },
     "user_tz": -420
    },
    "id": "3791627e-99eb-45c9-a504-75c07857a60c"
   },
   "outputs": [],
   "source": [
    "def nap_tien():\n",
    "    global tong_tien\n",
    "    while True:\n",
    "        tien_nap = int(input(\"Nhập số tiền mà bạn muốn nạp: \"))\n",
    "        tong_tien += tien_nap\n",
    "        print(f\"Tổng tiền sau khi bạn nạp là {tong_tien}\")\n",
    "        nap_tiep = int(input(\"Bạn có muốn nạp tiếp không? (0: không, 1: có)\"))\n",
    "        if nap_tiep == 0:\n",
    "            break\n",
    "        else:\n",
    "            continue\n"
   ]
  },
  {
   "cell_type": "code",
   "execution_count": 10,
   "id": "068a636a-4ceb-416a-a63c-512605e0b9aa",
   "metadata": {},
   "outputs": [
    {
     "ename": "NameError",
     "evalue": "name 'doc_file' is not defined",
     "output_type": "error",
     "traceback": [
      "\u001b[1;31m---------------------------------------------------------------------------\u001b[0m",
      "\u001b[1;31mNameError\u001b[0m                                 Traceback (most recent call last)",
      "Cell \u001b[1;32mIn[10], line 1\u001b[0m\n\u001b[1;32m----> 1\u001b[0m lst_taikhoan \u001b[38;5;241m=\u001b[39m doc_file(\u001b[38;5;124m\"\u001b[39m\u001b[38;5;124m./data/taikhoan.txt\u001b[39m\u001b[38;5;124m\"\u001b[39m, \u001b[38;5;124m\"\u001b[39m\u001b[38;5;124mr\u001b[39m\u001b[38;5;124m\"\u001b[39m)\n\u001b[0;32m      2\u001b[0m lst_taikhoan\n",
      "\u001b[1;31mNameError\u001b[0m: name 'doc_file' is not defined"
     ]
    }
   ],
   "source": [
    "lst_taikhoan = doc_file(\"./data/taikhoan.txt\", \"r\")\n",
    "lst_taikhoan"
   ]
  },
  {
   "cell_type": "code",
   "execution_count": 11,
   "id": "2e10f190-9c47-46c0-bfd4-b098c072697d",
   "metadata": {},
   "outputs": [],
   "source": [
    "def kiem_tra_tai_khoan(username, password):\n",
    "    global dang_nhap_status, user\n",
    "    # Đọc dữ liệu từ file tài khoản\n",
    "    lst_taikhoan = doc_file(\"./data/taikhoan.txt\", \"r\")\n",
    "    if lst_taikhoan is None:\n",
    "        print(\"Không thể đăng nhập. Có lỗi xảy ra khi đọc file tài khoản.\")\n",
    "        return\n",
    "\n",
    "    for tai_khoan in lst_taikhoan:\n",
    "        if tai_khoan[0] == username and tai_khoan[1] == password:\n",
    "            dang_nhap_status = True\n",
    "            user = username\n",
    "            \n",
    "            if username == \"admin\":\n",
    "                return 1\n",
    "            else:\n",
    "                return 0\n",
    "            return"
   ]
  },
  {
   "cell_type": "code",
   "execution_count": 12,
   "id": "94a92f7e-3796-406f-b0f9-6434edbdf8c0",
   "metadata": {},
   "outputs": [],
   "source": [
    "def dang_nhap():\n",
    "    global dang_nhap_status\n",
    "    print(\"---GAME LÔ ĐỀ HỌC---\")\n",
    "    print(\"Vui lòng đăng nhập để chơi game\")\n",
    "    \n",
    "    while True:\n",
    "        username = input(\"Nhập username: \")\n",
    "        password = input(\"Nhập password: \")\n",
    "\n",
    "        if kiem_tra_tai_khoan(username, password) in (0,1):\n",
    "            dang_nhap_status = True\n",
    "            break\n",
    "        else:\n",
    "            print(\"Sai tên người dùng hoặc mật khẩu, vui lòng thử lại.\")\n",
    "    clear_output()\n",
    "    menu()"
   ]
  },
  {
   "cell_type": "code",
   "execution_count": 13,
   "id": "1f8cfba8-1313-4e3d-b860-7abe07ba8928",
   "metadata": {
    "executionInfo": {
     "elapsed": 465,
     "status": "ok",
     "timestamp": 1711076655632,
     "user": {
      "displayName": "Đăng Nguyễn Hải",
      "userId": "10439053523970398060"
     },
     "user_tz": -420
    },
    "id": "1f8cfba8-1313-4e3d-b860-7abe07ba8928"
   },
   "outputs": [],
   "source": [
    "def menu():\n",
    "    print(\"GAME LÔ ĐỀ HỌC\")\n",
    "    print(\"1. Chơi lô\")\n",
    "    print(\"2. Đổi mật khẩu\")\n",
    "    print(\"3. Thống kê\")\n",
    "    print(\"4. Đăng xuất\")"
   ]
  },
  {
   "cell_type": "code",
   "execution_count": 14,
   "id": "12d8f8e3-390f-480a-979a-6096c5afe967",
   "metadata": {},
   "outputs": [],
   "source": [
    "def menu_admin():\n",
    "    print(\"ADMIN GAME LÔ ĐỀ HỌC\")\n",
    "    print(\"1. Tạo tài khoản\")\n",
    "    print(\"2. Nạp tiền tài khoản\")\n",
    "    print(\"3. Thống kê\")\n",
    "    print(\"4. Đăng xuất\")\n",
    "    "
   ]
  },
  {
   "cell_type": "code",
   "execution_count": 21,
   "id": "71f3a30a-4dce-422f-a198-6db0559fd948",
   "metadata": {},
   "outputs": [],
   "source": [
    "def main():\n",
    "    global dang_nhap_status\n",
    "    if dang_nhap_status == False:\n",
    "        dang_nhap()\n",
    "    else:\n",
    "        if user == \"admin\":\n",
    "            menu_admin()\n",
    "        else:\n",
    "            menu()\n",
    "    if user == \"admin\":\n",
    "        while True:\n",
    "            lua_chon = int(input(\"Bạn chọn: \"))\n",
    "            match lua_chon:\n",
    "                case 1:\n",
    "                    print(1)\n",
    "                    break\n",
    "                case 2:\n",
    "                    print(2)\n",
    "                    break\n",
    "                case 3:\n",
    "                    print(3)\n",
    "                    break\n",
    "                case 4:\n",
    "                    dang_nhap_status = False\n",
    "                    print(\"Chào bạn, hẹn gặp lại!\")\n",
    "                    break\n",
    "                case _:\n",
    "                    print(\"Nhập sai lựa chọn, vui lòng nhập lại !\")\n",
    "    else:\n",
    "        while True:\n",
    "            lua_chon = int(input(\"Bạn chọn: \"))\n",
    "            match lua_chon:\n",
    "                case 1:\n",
    "                    clear_output(wait=True)\n",
    "                    while True:\n",
    "                        tien_cuoc = nhap_tien_cuoc()\n",
    "                        so_lo = nhap_so_lo()\n",
    "                        game_quay_so(so_lo, tien_cuoc)\n",
    "                        choi_tiep = int(input(\"Bạn có muốn chơi tiếp không? (0: không, 1: có)\"))\n",
    "                        if choi_tiep == 0:\n",
    "                            break\n",
    "                    clear_output()\n",
    "                    main()\n",
    "                    break\n",
    "                case 2:\n",
    "                    clear_output()\n",
    "                    nap_tien()\n",
    "                    clear_output(wait=True)\n",
    "                    main()\n",
    "                    break\n",
    "                case 3:\n",
    "                    print(3)\n",
    "                    break    \n",
    "                case 4:\n",
    "                    dang_nhap_status = False\n",
    "                    print(\"Chào bạn, hẹn gặp lại!\")\n",
    "                    break\n",
    "                case _:\n",
    "                    print(\"Nhập sai lựa chọn, vui lòng nhập lại !\")"
   ]
  },
  {
   "cell_type": "code",
   "execution_count": 22,
   "id": "230961ee-1cdb-4afc-9df4-51cd69e918cf",
   "metadata": {
    "colab": {
     "base_uri": "https://localhost:8080/"
    },
    "executionInfo": {
     "elapsed": 8895,
     "status": "ok",
     "timestamp": 1711077242017,
     "user": {
      "displayName": "Đăng Nguyễn Hải",
      "userId": "10439053523970398060"
     },
     "user_tz": -420
    },
    "id": "230961ee-1cdb-4afc-9df4-51cd69e918cf",
    "outputId": "f94ebb97-1055-4580-8891-5f68059bc61a"
   },
   "outputs": [
    {
     "name": "stdout",
     "output_type": "stream",
     "text": [
      "GAME LÔ ĐỀ HỌC\n",
      "1. Chơi lô\n",
      "2. Đổi mật khẩu\n",
      "3. Thống kê\n",
      "4. Đăng xuất\n"
     ]
    },
    {
     "name": "stdin",
     "output_type": "stream",
     "text": [
      "Bạn chọn:  4\n"
     ]
    },
    {
     "name": "stdout",
     "output_type": "stream",
     "text": [
      "Chào bạn, hẹn gặp lại!\n"
     ]
    }
   ],
   "source": [
    "main()"
   ]
  },
  {
   "cell_type": "code",
   "execution_count": 17,
   "id": "1f76959d-e374-4972-ad01-f2503cc12a83",
   "metadata": {},
   "outputs": [],
   "source": [
    "def ghi_file(data, ten_file, mode):\n",
    "    try:\n",
    "        with open(ten_file, mode) as file:\n",
    "            for line in data:\n",
    "                file.write(line + '\\n')\n",
    "        print(\"Dữ liệu đã được ghi vào file thành công.\")\n",
    "    except Exception as e:\n",
    "        print(f\"Có lỗi xảy ra: {e}\")\n",
    "\n",
    "def doc_file(duong_dan, mode):\n",
    "    try:\n",
    "        with open(duong_dan, mode) as file:\n",
    "            du_lieu = [line.strip().split(',') for line in file.readlines()]\n",
    "        return du_lieu\n",
    "    except Exception as e:\n",
    "        print(f\"Có lỗi xảy ra khi đọc file: {e}\")\n",
    "        return None"
   ]
  },
  {
   "cell_type": "code",
   "execution_count": 18,
   "id": "65d09035-3909-4fe0-bd4e-6cecf5c17cd9",
   "metadata": {},
   "outputs": [],
   "source": [
    "def check_tai_khoan(username):\n",
    "    # Đọc dữ liệu từ file tài khoản\n",
    "    lst_taikhoan = doc_file(\"./data/taikhoan.txt\", \"r\")\n",
    "    if lst_taikhoan is None:\n",
    "        return False\n",
    "\n",
    "    # Kiểm tra xem tài khoản đã tồn tại chưa\n",
    "    for tai_khoan in lst_taikhoan:\n",
    "        if tai_khoan[0] == username:\n",
    "            return False\n",
    "    \n",
    "    return True\n"
   ]
  },
  {
   "cell_type": "code",
   "execution_count": 19,
   "id": "24eee768-e8f6-47ed-b4bb-5f5836708ba1",
   "metadata": {},
   "outputs": [],
   "source": [
    "def tao_tai_khoan(username, password, tong_tien):\n",
    "    if check_tai_khoan(username):\n",
    "        user_info = f\"{username},{password},{tong_tien}\\n\"\n",
    "        ghi_file([user_info], \"./data/taikhoan.txt\", \"a\")\n",
    "        print(f\"Tạo tài khoản {username} thành công\")\n",
    "    else:\n",
    "        print(\"Trùng username\")\n"
   ]
  },
  {
   "cell_type": "code",
   "execution_count": 26,
   "id": "797343aa-771e-4d89-9807-8bde6c4229f9",
   "metadata": {},
   "outputs": [
    {
     "name": "stdout",
     "output_type": "stream",
     "text": [
      "Dữ liệu đã được ghi vào file thành công.\n"
     ]
    },
    {
     "data": {
      "text/plain": [
       "True"
      ]
     },
     "execution_count": 26,
     "metadata": {},
     "output_type": "execute_result"
    }
   ],
   "source": [
    "def xoa_tai_khoan(username):\n",
    "    # Đọc dữ liệu từ file tài khoản\n",
    "    lst_taikhoan = doc_file(\"./data/taikhoan.txt\", \"r\")\n",
    "    if lst_taikhoan is None:\n",
    "        print(\"Không thể xóa tài khoản. Có lỗi xảy ra khi đọc file tài khoản.\")\n",
    "        return\n",
    "\n",
    "    # Tạo một danh sách mới không chứa tài khoản cần xóa\n",
    "    lst_taikhoan_moi = [tai_khoan_info for tai_khoan_info in lst_taikhoan if tai_khoan_info[0] != username]\n",
    "\n",
    "    # Ghi danh sách mới vào file\n",
    "    ghi_file([','.join(tai_khoan) + '\\n' for tai_khoan in lst_taikhoan_moi], \"taikhoan.txt\", \"w\")\n",
    "    return True\n",
    "\n",
    "# Sử dụng hàm để xóa tài khoản\n",
    "username_can_xoa = \"user123\"\n",
    "xoa_tai_khoan(username_can_xoa)\n"
   ]
  },
  {
   "cell_type": "code",
   "execution_count": null,
   "id": "a9fd2bc9-8cc6-4352-9076-3ccee36c7292",
   "metadata": {},
   "outputs": [],
   "source": []
  }
 ],
 "metadata": {
  "colab": {
   "provenance": []
  },
  "kernelspec": {
   "display_name": "Python 3 (ipykernel)",
   "language": "python",
   "name": "python3"
  },
  "language_info": {
   "codemirror_mode": {
    "name": "ipython",
    "version": 3
   },
   "file_extension": ".py",
   "mimetype": "text/x-python",
   "name": "python",
   "nbconvert_exporter": "python",
   "pygments_lexer": "ipython3",
   "version": "3.11.7"
  }
 },
 "nbformat": 4,
 "nbformat_minor": 5
}
